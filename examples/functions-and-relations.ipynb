{
 "cells": [
  {
   "cell_type": "markdown",
   "metadata": {},
   "source": [
    "# Functions and relations in Clear Data\n",
    "\n",
    "First, we import pandas and Clear Data."
   ]
  },
  {
   "cell_type": "code",
   "execution_count": 3,
   "metadata": {},
   "outputs": [],
   "source": [
    "# Because this is the development repo, we import in this ugly way, but\n",
    "# if you've done pip install clear-data, these two steps are not needed.\n",
    "import sys\n",
    "sys.path.append( os.getcwd()+\"/../src\" )\n",
    "\n",
    "# In your own code, do just this:\n",
    "import pandas as pd\n",
    "import clear_data"
   ]
  },
  {
   "cell_type": "markdown",
   "metadata": {},
   "source": [
    "Now I create a tiny example DataFrame for use in testing, below.\n",
    "Imagine we have a large database of businesses in a city, and this is a small\n",
    "example of what that big database might be like."
   ]
  },
  {
   "cell_type": "code",
   "execution_count": 4,
   "metadata": {},
   "outputs": [
    {
     "data": {
      "text/html": [
       "<div>\n",
       "<style scoped>\n",
       "    .dataframe tbody tr th:only-of-type {\n",
       "        vertical-align: middle;\n",
       "    }\n",
       "\n",
       "    .dataframe tbody tr th {\n",
       "        vertical-align: top;\n",
       "    }\n",
       "\n",
       "    .dataframe thead th {\n",
       "        text-align: right;\n",
       "    }\n",
       "</style>\n",
       "<table border=\"1\" class=\"dataframe\">\n",
       "  <thead>\n",
       "    <tr style=\"text-align: right;\">\n",
       "      <th></th>\n",
       "      <th>Name</th>\n",
       "      <th>Address</th>\n",
       "      <th>#Employees</th>\n",
       "    </tr>\n",
       "  </thead>\n",
       "  <tbody>\n",
       "    <tr>\n",
       "      <th>0</th>\n",
       "      <td>Annie's Pretzels</td>\n",
       "      <td>1 Example St.</td>\n",
       "      <td>12</td>\n",
       "    </tr>\n",
       "    <tr>\n",
       "      <th>1</th>\n",
       "      <td>Nathan's Hot Dogs</td>\n",
       "      <td>2 Imaginary Dr.</td>\n",
       "      <td>3</td>\n",
       "    </tr>\n",
       "    <tr>\n",
       "      <th>2</th>\n",
       "      <td>Joe's Garage</td>\n",
       "      <td>3 Foo Ln.</td>\n",
       "      <td>5</td>\n",
       "    </tr>\n",
       "  </tbody>\n",
       "</table>\n",
       "</div>"
      ],
      "text/plain": [
       "                Name          Address  #Employees\n",
       "0   Annie's Pretzels    1 Example St.          12\n",
       "1  Nathan's Hot Dogs  2 Imaginary Dr.           3\n",
       "2       Joe's Garage        3 Foo Ln.           5"
      ]
     },
     "execution_count": 4,
     "metadata": {},
     "output_type": "execute_result"
    }
   ],
   "source": [
    "df = pd.DataFrame( {\n",
    "    \"Name\"       : [ \"Annie's Pretzels\", \"Nathan's Hot Dogs\", \"Joe's Garage\" ],\n",
    "    \"Address\"    : [    \"1 Example St.\",   \"2 Imaginary Dr.\",    \"3 Foo Ln.\" ],\n",
    "    \"#Employees\" : [                 12,                   3,              5 ]\n",
    "} )\n",
    "df"
   ]
  },
  {
   "cell_type": "markdown",
   "metadata": {},
   "source": [
    "## Are all the business names unique?\n",
    "\n",
    "Old way:"
   ]
  },
  {
   "cell_type": "code",
   "execution_count": 5,
   "metadata": {},
   "outputs": [
    {
     "data": {
      "text/plain": [
       "True"
      ]
     },
     "execution_count": 5,
     "metadata": {},
     "output_type": "execute_result"
    }
   ],
   "source": [
    "len( df.Name.unique() ) == len( df.Name )"
   ]
  },
  {
   "cell_type": "markdown",
   "metadata": {},
   "source": [
    "Clear Data way:"
   ]
  },
  {
   "cell_type": "code",
   "execution_count": 6,
   "metadata": {},
   "outputs": [
    {
     "data": {
      "text/plain": [
       "True"
      ]
     },
     "execution_count": 6,
     "metadata": {},
     "output_type": "execute_result"
    }
   ],
   "source": [
    "df.Name.has_no_duplicates()"
   ]
  },
  {
   "cell_type": "markdown",
   "metadata": {},
   "source": [
    "## Can I use the business name column to look up number of employees?\n",
    "\n",
    "(In other words, is the table a function from business name to number of employees, or might there be multiple copies of the same business, perhaps at different addresses, with different numbers of employees?)\n",
    "\n",
    "Old way, which no one ever did, because of the hassle:"
   ]
  },
  {
   "cell_type": "code",
   "execution_count": 7,
   "metadata": {},
   "outputs": [
    {
     "data": {
      "text/plain": [
       "True"
      ]
     },
     "execution_count": 7,
     "metadata": {},
     "output_type": "execute_result"
    }
   ],
   "source": [
    "all( df.groupby( \"Name\" )[\"#Employees\"].agg( lambda x: len(x.unique()) ) == 1 )"
   ]
  },
  {
   "cell_type": "markdown",
   "metadata": {},
   "source": [
    "Clear Data way, much easier:"
   ]
  },
  {
   "cell_type": "code",
   "execution_count": 8,
   "metadata": {},
   "outputs": [
    {
     "data": {
      "text/plain": [
       "True"
      ]
     },
     "execution_count": 8,
     "metadata": {},
     "output_type": "execute_result"
    }
   ],
   "source": [
    "df.is_a_function( \"Name\", \"#Employees\" )"
   ]
  },
  {
   "cell_type": "markdown",
   "metadata": {},
   "source": [
    "## Since I can look up number of employees for any business by name, how do I do so?\n",
    "\n",
    "Old way:\n",
    "\n",
    "(Although most people would just filter for the rows they want and then manually extract the answer from there, such an approach is not useful in programmatic code, such as a call to `.apply()`.)"
   ]
  },
  {
   "cell_type": "code",
   "execution_count": 9,
   "metadata": {},
   "outputs": [
    {
     "data": {
      "text/plain": [
       "5"
      ]
     },
     "execution_count": 9,
     "metadata": {},
     "output_type": "execute_result"
    }
   ],
   "source": [
    "get_num_emp = lambda x: df[df.Name == x][\"#Employees\"].item()\n",
    "get_num_emp( \"Joe's Garage\" )"
   ]
  },
  {
   "cell_type": "markdown",
   "metadata": {},
   "source": [
    "Clear Data way:"
   ]
  },
  {
   "cell_type": "code",
   "execution_count": 10,
   "metadata": {},
   "outputs": [
    {
     "data": {
      "text/plain": [
       "5"
      ]
     },
     "execution_count": 10,
     "metadata": {},
     "output_type": "execute_result"
    }
   ],
   "source": [
    "get_num_emp = df.to_function( \"Name\", \"#Employees\" )\n",
    "get_num_emp( \"Joe's Garage\" )"
   ]
  },
  {
   "cell_type": "markdown",
   "metadata": {},
   "source": [
    "## Can I represent that lookup operation as a dictionary?\n",
    "\n",
    "Old way, short but arcane:"
   ]
  },
  {
   "cell_type": "code",
   "execution_count": 11,
   "metadata": {},
   "outputs": [
    {
     "data": {
      "text/plain": [
       "{\"Annie's Pretzels\": 12, \"Nathan's Hot Dogs\": 3, \"Joe's Garage\": 5}"
      ]
     },
     "execution_count": 11,
     "metadata": {},
     "output_type": "execute_result"
    }
   ],
   "source": [
    "dict( zip( df[\"Name\"], df[\"#Employees\"] ) )"
   ]
  },
  {
   "cell_type": "markdown",
   "metadata": {},
   "source": [
    "Clear Data way:"
   ]
  },
  {
   "cell_type": "code",
   "execution_count": 12,
   "metadata": {},
   "outputs": [
    {
     "data": {
      "text/plain": [
       "{\"Annie's Pretzels\": 12, \"Nathan's Hot Dogs\": 3, \"Joe's Garage\": 5}"
      ]
     },
     "execution_count": 12,
     "metadata": {},
     "output_type": "execute_result"
    }
   ],
   "source": [
    "df.to_dictionary( \"Name\", \"#Employees\" )"
   ]
  },
  {
   "cell_type": "markdown",
   "metadata": {},
   "source": [
    "It can also be useful to think of data tables (or some columns within them) as\n",
    "relations/predicates.  To see a better example of this, let's imagine that instead\n",
    "of the businesses data table above, let's consider a table of all the plays in\n",
    "some NFL games.  Here's a tiny example of what it might be like."
   ]
  },
  {
   "cell_type": "code",
   "execution_count": 13,
   "metadata": {},
   "outputs": [
    {
     "data": {
      "text/html": [
       "<div>\n",
       "<style scoped>\n",
       "    .dataframe tbody tr th:only-of-type {\n",
       "        vertical-align: middle;\n",
       "    }\n",
       "\n",
       "    .dataframe tbody tr th {\n",
       "        vertical-align: top;\n",
       "    }\n",
       "\n",
       "    .dataframe thead th {\n",
       "        text-align: right;\n",
       "    }\n",
       "</style>\n",
       "<table border=\"1\" class=\"dataframe\">\n",
       "  <thead>\n",
       "    <tr style=\"text-align: right;\">\n",
       "      <th></th>\n",
       "      <th>Offense</th>\n",
       "      <th>Defense</th>\n",
       "      <th>Date</th>\n",
       "      <th>Time</th>\n",
       "      <th>Play</th>\n",
       "    </tr>\n",
       "  </thead>\n",
       "  <tbody>\n",
       "    <tr>\n",
       "      <th>0</th>\n",
       "      <td>Denver</td>\n",
       "      <td>New England</td>\n",
       "      <td>Nov 12</td>\n",
       "      <td>8:03</td>\n",
       "      <td>Up the middle</td>\n",
       "    </tr>\n",
       "    <tr>\n",
       "      <th>1</th>\n",
       "      <td>New England</td>\n",
       "      <td>Denver</td>\n",
       "      <td>Nov 12</td>\n",
       "      <td>8:27</td>\n",
       "      <td>Quarterback sneak</td>\n",
       "    </tr>\n",
       "    <tr>\n",
       "      <th>2</th>\n",
       "      <td>San Francisco</td>\n",
       "      <td>Cleveland</td>\n",
       "      <td>Nov 19</td>\n",
       "      <td>7:30</td>\n",
       "      <td>Reverse</td>\n",
       "    </tr>\n",
       "  </tbody>\n",
       "</table>\n",
       "</div>"
      ],
      "text/plain": [
       "         Offense      Defense    Date  Time               Play\n",
       "0         Denver  New England  Nov 12  8:03      Up the middle\n",
       "1    New England       Denver  Nov 12  8:27  Quarterback sneak\n",
       "2  San Francisco    Cleveland  Nov 19  7:30            Reverse"
      ]
     },
     "execution_count": 13,
     "metadata": {},
     "output_type": "execute_result"
    }
   ],
   "source": [
    "df = pd.DataFrame( {\n",
    "    \"Offense\"    : [        \"Denver\",       \"New England\", \"San Francisco\" ],\n",
    "    \"Defense\"    : [   \"New England\",            \"Denver\",     \"Cleveland\" ],\n",
    "    \"Date\"       : [        \"Nov 12\",            \"Nov 12\",        \"Nov 19\" ],\n",
    "    \"Time\"       : [          \"8:03\",              \"8:27\",          \"7:30\" ],\n",
    "    \"Play\"       : [ \"Up the middle\", \"Quarterback sneak\",       \"Reverse\" ]\n",
    "} )\n",
    "df"
   ]
  },
  {
   "cell_type": "markdown",
   "metadata": {},
   "source": [
    "## I want a function that tests whether a team has ever run a certain play.\n",
    "\n",
    "Old way:"
   ]
  },
  {
   "cell_type": "code",
   "execution_count": 14,
   "metadata": {},
   "outputs": [
    {
     "data": {
      "text/plain": [
       "False"
      ]
     },
     "execution_count": 14,
     "metadata": {},
     "output_type": "execute_result"
    }
   ],
   "source": [
    "def team_ran_play ( team, play ):\n",
    "    return len( df[(df[\"Offense\"] == team) & (df[\"Play\"] == play)] ) > 0\n",
    "team_ran_play( \"Cleveland\", \"Up the middle\" )"
   ]
  },
  {
   "cell_type": "markdown",
   "metadata": {},
   "source": [
    "Clear Data way:"
   ]
  },
  {
   "cell_type": "code",
   "execution_count": 15,
   "metadata": {},
   "outputs": [
    {
     "data": {
      "text/plain": [
       "False"
      ]
     },
     "execution_count": 15,
     "metadata": {},
     "output_type": "execute_result"
    }
   ],
   "source": [
    "team_ran_play = df.to_predicate( \"Offense\", \"Play\" )\n",
    "team_ran_play( \"Cleveland\", \"Up the middle\" )"
   ]
  }
 ],
 "metadata": {
  "kernelspec": {
   "display_name": "Python 3.9.6 ('base')",
   "language": "python",
   "name": "python3"
  },
  "language_info": {
   "codemirror_mode": {
    "name": "ipython",
    "version": 3
   },
   "file_extension": ".py",
   "mimetype": "text/x-python",
   "name": "python",
   "nbconvert_exporter": "python",
   "pygments_lexer": "ipython3",
   "version": "3.9.6"
  },
  "orig_nbformat": 4,
  "vscode": {
   "interpreter": {
    "hash": "d4d1e4263499bec80672ea0156c357c1ee493ec2b1c70f0acce89fc37c4a6abe"
   }
  }
 },
 "nbformat": 4,
 "nbformat_minor": 2
}
