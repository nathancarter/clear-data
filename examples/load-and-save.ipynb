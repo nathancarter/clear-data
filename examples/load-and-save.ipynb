{
 "cells": [
  {
   "cell_type": "markdown",
   "metadata": {},
   "source": [
    "# Loading and Saving DataFrames\n",
    "\n",
    "Loading and saving data in pandas has a few gotchas and annoyances that we can\n",
    "smooth over with two simplifying functions, `pd.load()` and `df.save()`.  This\n",
    "notebook covers both.\n",
    "\n",
    "First, we import pandas and Clear Data."
   ]
  },
  {
   "cell_type": "code",
   "execution_count": 11,
   "metadata": {},
   "outputs": [],
   "source": [
    "# Because this is the development repo, we import in this ugly way, but\n",
    "# if you've done pip install clear-data, these two steps are not needed.\n",
    "import sys\n",
    "sys.path.append( os.getcwd()+\"/../src\" )\n",
    "\n",
    "# In your own code, do just this:\n",
    "import pandas as pd\n",
    "import clear_data"
   ]
  },
  {
   "cell_type": "markdown",
   "metadata": {},
   "source": [
    "Let's imagine we have an example DataFrame containing employee information.\n",
    "(To see more about generating example data, see the notebook\n",
    "[Generating Example Data](generating-example-data.ipynb).)"
   ]
  },
  {
   "cell_type": "code",
   "execution_count": 12,
   "metadata": {},
   "outputs": [
    {
     "data": {
      "text/html": [
       "<div>\n",
       "<style scoped>\n",
       "    .dataframe tbody tr th:only-of-type {\n",
       "        vertical-align: middle;\n",
       "    }\n",
       "\n",
       "    .dataframe tbody tr th {\n",
       "        vertical-align: top;\n",
       "    }\n",
       "\n",
       "    .dataframe thead th {\n",
       "        text-align: right;\n",
       "    }\n",
       "</style>\n",
       "<table border=\"1\" class=\"dataframe\">\n",
       "  <thead>\n",
       "    <tr style=\"text-align: right;\">\n",
       "      <th></th>\n",
       "      <th>LastName</th>\n",
       "      <th>FirstName</th>\n",
       "      <th>ID</th>\n",
       "      <th>Department</th>\n",
       "      <th>Salary</th>\n",
       "      <th>YearsAtCompany</th>\n",
       "    </tr>\n",
       "  </thead>\n",
       "  <tbody>\n",
       "    <tr>\n",
       "      <th>0</th>\n",
       "      <td>Sanchez</td>\n",
       "      <td>Penelope</td>\n",
       "      <td>960718</td>\n",
       "      <td>Research</td>\n",
       "      <td>66761.13</td>\n",
       "      <td>10</td>\n",
       "    </tr>\n",
       "    <tr>\n",
       "      <th>1</th>\n",
       "      <td>Young</td>\n",
       "      <td>Sebastian</td>\n",
       "      <td>520924</td>\n",
       "      <td>Management</td>\n",
       "      <td>113989.47</td>\n",
       "      <td>3</td>\n",
       "    </tr>\n",
       "    <tr>\n",
       "      <th>2</th>\n",
       "      <td>Carter</td>\n",
       "      <td>Jack</td>\n",
       "      <td>160330</td>\n",
       "      <td>Human Resources</td>\n",
       "      <td>72433.12</td>\n",
       "      <td>3</td>\n",
       "    </tr>\n",
       "    <tr>\n",
       "      <th>3</th>\n",
       "      <td>Moore</td>\n",
       "      <td>Mason</td>\n",
       "      <td>457142</td>\n",
       "      <td>Human Resources</td>\n",
       "      <td>62649.34</td>\n",
       "      <td>7</td>\n",
       "    </tr>\n",
       "    <tr>\n",
       "      <th>4</th>\n",
       "      <td>Baker</td>\n",
       "      <td>Daniel</td>\n",
       "      <td>429878</td>\n",
       "      <td>Management</td>\n",
       "      <td>148397.50</td>\n",
       "      <td>5</td>\n",
       "    </tr>\n",
       "  </tbody>\n",
       "</table>\n",
       "</div>"
      ],
      "text/plain": [
       "  LastName  FirstName      ID       Department     Salary  YearsAtCompany\n",
       "0  Sanchez   Penelope  960718         Research   66761.13              10\n",
       "1    Young  Sebastian  520924       Management  113989.47               3\n",
       "2   Carter       Jack  160330  Human Resources   72433.12               3\n",
       "3    Moore      Mason  457142  Human Resources   62649.34               7\n",
       "4    Baker     Daniel  429878       Management  148397.50               5"
      ]
     },
     "execution_count": 12,
     "metadata": {},
     "output_type": "execute_result"
    }
   ],
   "source": [
    "df = pd.example()\n",
    "df.head()"
   ]
  },
  {
   "cell_type": "markdown",
   "metadata": {},
   "source": [
    "## Let's say we wanted to save the file\n",
    "\n",
    "Old way:"
   ]
  },
  {
   "cell_type": "code",
   "execution_count": 13,
   "metadata": {},
   "outputs": [],
   "source": [
    "# Choose your favorite method, such as:\n",
    "df.to_csv( 'output.csv' )\n",
    "# or: df.to_html( 'output.html' )\n",
    "# or: df.to_excel( 'output.xlsx' )\n",
    "# or any of many other formats, including particulars you need to pay attention\n",
    "# to when writing to some of them, such as JSON orientation and TSV separator."
   ]
  },
  {
   "cell_type": "markdown",
   "metadata": {},
   "source": [
    "Clear Data way:"
   ]
  },
  {
   "cell_type": "code",
   "execution_count": 14,
   "metadata": {},
   "outputs": [],
   "source": [
    "df.save( 'output.json' ) # file extension determines how to save"
   ]
  },
  {
   "cell_type": "markdown",
   "metadata": {},
   "source": [
    "But that is not the exciting part.  Saving data is much easier than loading it.\n",
    "All of the following annoyances occur when loading data:\n",
    "\n",
    " * Specifying the correct separator for CSV vs. TSV\n",
    " * Specifying the sheet name when loading from Excel files\n",
    " * Lifting the result DataFrame out of a list when loading from Excel files\n",
    " * Downloading an HDF file before reading, because `read_hdf()` does not support URLs.\n",
    " * Figuring out the correct orientation when loading from JSON.\n",
    " * Determining whether you need to apply normalization when loading from JSON.\n",
    " * Switching the XML parser if loading from HTML fails.\n",
    " * Knowing the correct argument types and meanings unique to each load function\n",
    "   (e.g., `pd.read_excel()` takes different arguments than `pd.read_orc()`).\n",
    "\n",
    "But Clear Data handles all of that for you.  Just use `pd.load()`:"
   ]
  },
  {
   "cell_type": "code",
   "execution_count": 15,
   "metadata": {},
   "outputs": [
    {
     "data": {
      "text/html": [
       "<div>\n",
       "<style scoped>\n",
       "    .dataframe tbody tr th:only-of-type {\n",
       "        vertical-align: middle;\n",
       "    }\n",
       "\n",
       "    .dataframe tbody tr th {\n",
       "        vertical-align: top;\n",
       "    }\n",
       "\n",
       "    .dataframe thead th {\n",
       "        text-align: right;\n",
       "    }\n",
       "</style>\n",
       "<table border=\"1\" class=\"dataframe\">\n",
       "  <thead>\n",
       "    <tr style=\"text-align: right;\">\n",
       "      <th></th>\n",
       "      <th>LastName</th>\n",
       "      <th>FirstName</th>\n",
       "      <th>ID</th>\n",
       "      <th>Department</th>\n",
       "      <th>Salary</th>\n",
       "      <th>YearsAtCompany</th>\n",
       "    </tr>\n",
       "  </thead>\n",
       "  <tbody>\n",
       "    <tr>\n",
       "      <th>0</th>\n",
       "      <td>Sanchez</td>\n",
       "      <td>Penelope</td>\n",
       "      <td>960718</td>\n",
       "      <td>Research</td>\n",
       "      <td>66761.13</td>\n",
       "      <td>10</td>\n",
       "    </tr>\n",
       "    <tr>\n",
       "      <th>1</th>\n",
       "      <td>Young</td>\n",
       "      <td>Sebastian</td>\n",
       "      <td>520924</td>\n",
       "      <td>Management</td>\n",
       "      <td>113989.47</td>\n",
       "      <td>3</td>\n",
       "    </tr>\n",
       "    <tr>\n",
       "      <th>2</th>\n",
       "      <td>Carter</td>\n",
       "      <td>Jack</td>\n",
       "      <td>160330</td>\n",
       "      <td>Human Resources</td>\n",
       "      <td>72433.12</td>\n",
       "      <td>3</td>\n",
       "    </tr>\n",
       "    <tr>\n",
       "      <th>3</th>\n",
       "      <td>Moore</td>\n",
       "      <td>Mason</td>\n",
       "      <td>457142</td>\n",
       "      <td>Human Resources</td>\n",
       "      <td>62649.34</td>\n",
       "      <td>7</td>\n",
       "    </tr>\n",
       "    <tr>\n",
       "      <th>4</th>\n",
       "      <td>Baker</td>\n",
       "      <td>Daniel</td>\n",
       "      <td>429878</td>\n",
       "      <td>Management</td>\n",
       "      <td>148397.50</td>\n",
       "      <td>5</td>\n",
       "    </tr>\n",
       "  </tbody>\n",
       "</table>\n",
       "</div>"
      ],
      "text/plain": [
       "  LastName  FirstName      ID       Department     Salary  YearsAtCompany\n",
       "0  Sanchez   Penelope  960718         Research   66761.13              10\n",
       "1    Young  Sebastian  520924       Management  113989.47               3\n",
       "2   Carter       Jack  160330  Human Resources   72433.12               3\n",
       "3    Moore      Mason  457142  Human Resources   62649.34               7\n",
       "4    Baker     Daniel  429878       Management  148397.50               5"
      ]
     },
     "execution_count": 15,
     "metadata": {},
     "output_type": "execute_result"
    }
   ],
   "source": [
    "reloaded_df = pd.load( 'output.json' )\n",
    "reloaded_df.head()"
   ]
  },
  {
   "cell_type": "markdown",
   "metadata": {},
   "source": [
    "Not all formats preserve data types perfectly.  If the user cares about that\n",
    "issue, choose a format such as Parquet, Pickle, ORC, or HDF."
   ]
  }
 ],
 "metadata": {
  "kernelspec": {
   "display_name": "Python 3.9.6 ('base')",
   "language": "python",
   "name": "python3"
  },
  "language_info": {
   "codemirror_mode": {
    "name": "ipython",
    "version": 3
   },
   "file_extension": ".py",
   "mimetype": "text/x-python",
   "name": "python",
   "nbconvert_exporter": "python",
   "pygments_lexer": "ipython3",
   "version": "3.10.8"
  },
  "orig_nbformat": 4,
  "vscode": {
   "interpreter": {
    "hash": "d4d1e4263499bec80672ea0156c357c1ee493ec2b1c70f0acce89fc37c4a6abe"
   }
  }
 },
 "nbformat": 4,
 "nbformat_minor": 2
}
